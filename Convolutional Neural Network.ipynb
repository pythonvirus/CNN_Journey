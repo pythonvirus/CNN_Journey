{
 "cells": [
  {
   "cell_type": "code",
   "execution_count": 1,
   "metadata": {},
   "outputs": [
    {
     "name": "stderr",
     "output_type": "stream",
     "text": [
      "/home/abhinandan/anaconda3/lib/python3.6/site-packages/h5py/__init__.py:36: FutureWarning: Conversion of the second argument of issubdtype from `float` to `np.floating` is deprecated. In future, it will be treated as `np.float64 == np.dtype(float).type`.\n",
      "  from ._conv import register_converters as _register_converters\n",
      "Using TensorFlow backend.\n"
     ]
    }
   ],
   "source": [
    "# Part 1 - Building the CNN\n",
    "\n",
    "# Importing the Keras libraries and packages\n",
    "from keras.models import Sequential\n",
    "from keras.layers import Conv2D\n",
    "from keras.layers import MaxPooling2D\n",
    "from keras.layers import Flatten\n",
    "from keras.layers import Dense\n",
    "from keras.models import model_from_json"
   ]
  },
  {
   "cell_type": "code",
   "execution_count": 2,
   "metadata": {},
   "outputs": [],
   "source": [
    "# Initialising the CNN\n",
    "classifier = Sequential()"
   ]
  },
  {
   "cell_type": "code",
   "execution_count": 3,
   "metadata": {},
   "outputs": [],
   "source": [
    "# Step 1 - Convolution\n",
    "classifier.add(Conv2D(32, (8, 8), input_shape = (64, 64, 3), activation = 'relu'))\n",
    "\n",
    "# Step 2 - Pooling\n",
    "classifier.add(MaxPooling2D(pool_size = (2, 2)))"
   ]
  },
  {
   "cell_type": "code",
   "execution_count": 4,
   "metadata": {},
   "outputs": [],
   "source": [
    "# Adding a second convolutional layer\n",
    "classifier.add(Conv2D(32, (3, 3), activation = 'relu'))\n",
    "classifier.add(MaxPooling2D(pool_size = (2, 2)))"
   ]
  },
  {
   "cell_type": "code",
   "execution_count": 5,
   "metadata": {},
   "outputs": [],
   "source": [
    "# Step 3 - Flattening\n",
    "classifier.add(Flatten())"
   ]
  },
  {
   "cell_type": "code",
   "execution_count": 6,
   "metadata": {},
   "outputs": [],
   "source": [
    "# Step 4 - Full connection\n",
    "classifier.add(Dense(units = 128, activation = 'relu'))\n",
    "classifier.add(Dense(units = 1, activation = 'sigmoid'))"
   ]
  },
  {
   "cell_type": "code",
   "execution_count": 7,
   "metadata": {},
   "outputs": [],
   "source": [
    "# Compiling the CNN\n",
    "classifier.compile(optimizer = 'adam', loss = 'binary_crossentropy', metrics = ['accuracy'])"
   ]
  },
  {
   "cell_type": "code",
   "execution_count": 8,
   "metadata": {},
   "outputs": [
    {
     "name": "stdout",
     "output_type": "stream",
     "text": [
      "Found 8000 images belonging to 2 classes.\n",
      "Found 2000 images belonging to 2 classes.\n"
     ]
    }
   ],
   "source": [
    "# Part 2 - Fitting the CNN to the images\n",
    "\n",
    "from keras.preprocessing.image import ImageDataGenerator\n",
    "\n",
    "train_datagen = ImageDataGenerator(rescale = 1./255,\n",
    "                                   shear_range = 0.2,\n",
    "                                   zoom_range = 0.2,\n",
    "                                   horizontal_flip = True)\n",
    "\n",
    "test_datagen = ImageDataGenerator(rescale = 1./255)\n",
    "\n",
    "training_set = train_datagen.flow_from_directory('dataset/training_set',\n",
    "                                                 target_size = (64, 64),\n",
    "                                                 batch_size = 32,\n",
    "                                                 class_mode = 'binary')\n",
    "\n",
    "test_set = test_datagen.flow_from_directory('dataset/test_set',\n",
    "                                            target_size = (64, 64),\n",
    "                                            batch_size = 32,\n",
    "                                            class_mode = 'binary')"
   ]
  },
  {
   "cell_type": "code",
   "execution_count": 9,
   "metadata": {},
   "outputs": [
    {
     "name": "stdout",
     "output_type": "stream",
     "text": [
      "Epoch 1/25\n",
      "100/100 [==============================] - 90s 897ms/step - loss: 0.6956 - acc: 0.5228 - val_loss: 0.6942 - val_acc: 0.4813\n",
      "Epoch 2/25\n",
      "100/100 [==============================] - 58s 581ms/step - loss: 0.6931 - acc: 0.5091 - val_loss: 0.6925 - val_acc: 0.5188\n",
      "Epoch 3/25\n",
      "100/100 [==============================] - 46s 461ms/step - loss: 0.6939 - acc: 0.5009 - val_loss: 0.6911 - val_acc: 0.5312\n",
      "Epoch 4/25\n",
      "100/100 [==============================] - 25s 253ms/step - loss: 0.6933 - acc: 0.4888 - val_loss: 0.6929 - val_acc: 0.5531\n",
      "Epoch 5/25\n",
      "100/100 [==============================] - 26s 261ms/step - loss: 0.6923 - acc: 0.5266 - val_loss: 0.6926 - val_acc: 0.5406\n",
      "Epoch 6/25\n",
      "100/100 [==============================] - 26s 264ms/step - loss: 0.6932 - acc: 0.4950 - val_loss: 0.6920 - val_acc: 0.4813\n",
      "Epoch 7/25\n",
      "100/100 [==============================] - 27s 266ms/step - loss: 0.6898 - acc: 0.5291 - val_loss: 0.6852 - val_acc: 0.5344\n",
      "Epoch 8/25\n",
      "100/100 [==============================] - 26s 259ms/step - loss: 0.6889 - acc: 0.5284 - val_loss: 0.6838 - val_acc: 0.5938\n",
      "Epoch 9/25\n",
      "100/100 [==============================] - 26s 257ms/step - loss: 0.6767 - acc: 0.5856 - val_loss: 0.6518 - val_acc: 0.6500\n",
      "Epoch 10/25\n",
      "100/100 [==============================] - 27s 269ms/step - loss: 0.6707 - acc: 0.5872 - val_loss: 0.6453 - val_acc: 0.6594\n",
      "Epoch 11/25\n",
      "100/100 [==============================] - 27s 265ms/step - loss: 0.6612 - acc: 0.6078 - val_loss: 0.6362 - val_acc: 0.6625\n",
      "Epoch 12/25\n",
      "100/100 [==============================] - 26s 263ms/step - loss: 0.6517 - acc: 0.6297 - val_loss: 0.6237 - val_acc: 0.6531\n",
      "Epoch 13/25\n",
      "100/100 [==============================] - 25s 254ms/step - loss: 0.6401 - acc: 0.6316 - val_loss: 0.6196 - val_acc: 0.6594\n",
      "Epoch 14/25\n",
      "100/100 [==============================] - 25s 254ms/step - loss: 0.6449 - acc: 0.6291 - val_loss: 0.6309 - val_acc: 0.6531\n",
      "Epoch 15/25\n",
      "100/100 [==============================] - 25s 254ms/step - loss: 0.6214 - acc: 0.6534 - val_loss: 0.6367 - val_acc: 0.6562\n",
      "Epoch 16/25\n",
      "100/100 [==============================] - 26s 257ms/step - loss: 0.6138 - acc: 0.6678 - val_loss: 0.6133 - val_acc: 0.6562\n",
      "Epoch 17/25\n",
      "100/100 [==============================] - 26s 259ms/step - loss: 0.6068 - acc: 0.6747 - val_loss: 0.6189 - val_acc: 0.6438\n",
      "Epoch 18/25\n",
      "100/100 [==============================] - 27s 267ms/step - loss: 0.5957 - acc: 0.6878 - val_loss: 0.6041 - val_acc: 0.6719\n",
      "Epoch 19/25\n",
      "100/100 [==============================] - 26s 261ms/step - loss: 0.5831 - acc: 0.6944 - val_loss: 0.6164 - val_acc: 0.6281\n",
      "Epoch 20/25\n",
      "100/100 [==============================] - 27s 265ms/step - loss: 0.5877 - acc: 0.6891 - val_loss: 0.6211 - val_acc: 0.6406\n",
      "Epoch 21/25\n",
      "100/100 [==============================] - 26s 256ms/step - loss: 0.5579 - acc: 0.7122 - val_loss: 0.6287 - val_acc: 0.6750\n",
      "Epoch 22/25\n",
      "100/100 [==============================] - 27s 265ms/step - loss: 0.5692 - acc: 0.7103 - val_loss: 0.5968 - val_acc: 0.6531\n",
      "Epoch 23/25\n",
      "100/100 [==============================] - 27s 268ms/step - loss: 0.5748 - acc: 0.7022 - val_loss: 0.6234 - val_acc: 0.6656\n",
      "Epoch 24/25\n",
      "100/100 [==============================] - 26s 264ms/step - loss: 0.5479 - acc: 0.7103 - val_loss: 0.6137 - val_acc: 0.6687\n",
      "Epoch 25/25\n",
      "100/100 [==============================] - 26s 258ms/step - loss: 0.5458 - acc: 0.7225 - val_loss: 0.6034 - val_acc: 0.6375\n"
     ]
    },
    {
     "data": {
      "text/plain": [
       "<keras.callbacks.History at 0x7f55be97bda0>"
      ]
     },
     "execution_count": 9,
     "metadata": {},
     "output_type": "execute_result"
    }
   ],
   "source": [
    "classifier.fit_generator(training_set,\n",
    "                         steps_per_epoch =100,\n",
    "                         epochs = 25,\n",
    "                         validation_data = test_set,\n",
    "                         validation_steps = 10)"
   ]
  },
  {
   "cell_type": "code",
   "execution_count": 10,
   "metadata": {},
   "outputs": [
    {
     "data": {
      "text/plain": [
       "{'cats': 0, 'dogs': 1}"
      ]
     },
     "execution_count": 10,
     "metadata": {},
     "output_type": "execute_result"
    }
   ],
   "source": [
    "training_set.class_indices"
   ]
  },
  {
   "cell_type": "code",
   "execution_count": 20,
   "metadata": {},
   "outputs": [],
   "source": [
    "import numpy as np\n",
    "from keras.preprocessing import image\n",
    "test_image = image.load_img('dataset/single_prediction/cat_or_dog_2.jpg', target_size = (64, 64))\n",
    "test_image = image.img_to_array(test_image)\n",
    "test_image = np.expand_dims(test_image, axis = 0)\n",
    "result = classifier.predict(test_image)\n",
    "\n",
    "if result[0][0] == 1:\n",
    "    prediction = 'dog'\n",
    "else:\n",
    "    prediction = 'cat'"
   ]
  },
  {
   "cell_type": "code",
   "execution_count": 21,
   "metadata": {},
   "outputs": [
    {
     "data": {
      "text/plain": [
       "'dog'"
      ]
     },
     "execution_count": 21,
     "metadata": {},
     "output_type": "execute_result"
    }
   ],
   "source": [
    "prediction"
   ]
  },
  {
   "cell_type": "code",
   "execution_count": 12,
   "metadata": {},
   "outputs": [
    {
     "name": "stdout",
     "output_type": "stream",
     "text": [
      "Saved model to disk\n"
     ]
    }
   ],
   "source": [
    "# Saving a Keras Model\n",
    "classifier_json = classifier.to_json()\n",
    "with open(\"classifier.json\", \"w\") as json_file:\n",
    "    json_file.write(classifier_json)\n",
    "# Serialize weights to HDF5\n",
    "print(\"Saved model to disk\")\n",
    "classifier.save_weights(\"classifier.h5\")"
   ]
  },
  {
   "cell_type": "code",
   "execution_count": 13,
   "metadata": {},
   "outputs": [
    {
     "name": "stdout",
     "output_type": "stream",
     "text": [
      "Loaded model from disk\n"
     ]
    }
   ],
   "source": [
    "# Load json and create model\n",
    "json_file = open('classifier.json', 'r')\n",
    "loaded_classifier_json = json_file.read()\n",
    "json_file.close()\n",
    "loaded_classifier = model_from_json(loaded_classifier_json)\n",
    "# load weights into new model\n",
    "print(\"Loaded model from disk\")\n",
    "loaded_classifier.load_weights(\"classifier.h5\")"
   ]
  },
  {
   "cell_type": "code",
   "execution_count": 14,
   "metadata": {},
   "outputs": [],
   "source": [
    "classifier = loaded_classifier"
   ]
  },
  {
   "cell_type": "markdown",
   "metadata": {},
   "source": [
    "## Transfer Learning"
   ]
  },
  {
   "cell_type": "code",
   "execution_count": 2,
   "metadata": {},
   "outputs": [],
   "source": [
    "from tensorflow.python.keras.applications import ResNet50\n",
    "from tensorflow.python.keras.models import Sequential\n",
    "from tensorflow.python.keras.layers import Dense, Flatten, GlobalAveragePooling2D\n",
    "\n",
    "num_classes = 2"
   ]
  },
  {
   "cell_type": "code",
   "execution_count": 2,
   "metadata": {},
   "outputs": [
    {
     "name": "stdout",
     "output_type": "stream",
     "text": [
      "Downloading data from https://github.com/fchollet/deep-learning-models/releases/download/v0.2/resnet50_weights_tf_dim_ordering_tf_kernels_notop.h5\n",
      "94658560/94653016 [==============================] - 541s 6us/step\n"
     ]
    }
   ],
   "source": [
    "my_new_model = Sequential()\n",
    "my_new_model.add(ResNet50(include_top=False, pooling='max'))\n",
    "my_new_model.add(Dense(num_classes, activation='softmax'))"
   ]
  },
  {
   "cell_type": "code",
   "execution_count": 3,
   "metadata": {},
   "outputs": [],
   "source": [
    "my_new_model.layers[0].trainable = False"
   ]
  },
  {
   "cell_type": "code",
   "execution_count": 4,
   "metadata": {},
   "outputs": [],
   "source": [
    "# compile\n",
    "my_new_model.compile(optimizer='adam', \n",
    "                     loss='categorical_crossentropy', \n",
    "                     metrics=['accuracy'])"
   ]
  },
  {
   "cell_type": "code",
   "execution_count": null,
   "metadata": {},
   "outputs": [],
   "source": [
    "my_new_model.fit_generator(training_set,\n",
    "                         steps_per_epoch =100,\n",
    "                         epochs = 25,\n",
    "                         validation_data = test_set,\n",
    "                         validation_steps = 10)"
   ]
  }
 ],
 "metadata": {
  "kernelspec": {
   "display_name": "Python 3",
   "language": "python",
   "name": "python3"
  },
  "language_info": {
   "codemirror_mode": {
    "name": "ipython",
    "version": 3
   },
   "file_extension": ".py",
   "mimetype": "text/x-python",
   "name": "python",
   "nbconvert_exporter": "python",
   "pygments_lexer": "ipython3",
   "version": "3.6.5"
  }
 },
 "nbformat": 4,
 "nbformat_minor": 2
}
